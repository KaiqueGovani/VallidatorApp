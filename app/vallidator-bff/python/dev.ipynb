{
 "cells": [
  {
   "cell_type": "code",
   "execution_count": null,
   "metadata": {},
   "outputs": [],
   "source": [
    "import pandas as pd\n",
    "from google.cloud import storage"
   ]
  },
  {
   "cell_type": "code",
   "execution_count": null,
   "metadata": {},
   "outputs": [],
   "source": [
    "def converterParaDataFrame(file):\n",
    "    \n",
    "    \n",
    "    if file.endswith('.csv'):\n",
    "        return pd.read_csv(file)\n",
    "    elif file.endswith('.xls'):\n",
    "        return pd.read_excel(file)\n",
    "    elif file.endswith('.xlsx'):\n",
    "        return pd.read_excel(file)"
   ]
  },
  {
   "cell_type": "code",
   "execution_count": null,
   "metadata": {},
   "outputs": [],
   "source": [
    "\n",
    "    \n",
    "def verificarNomeColunas(df, campos):\n",
    "    try:\n",
    "        for coluna in df.columns.values:\n",
    "            "
   ]
  },
  {
   "cell_type": "code",
   "execution_count": null,
   "metadata": {},
   "outputs": [],
   "source": [
    "campos = [\n",
    "      {\n",
    "        \"nome_campo\": \"Nome\",\n",
    "        \"id_tipo\": 1,\n",
    "        \"anulavel\": False\n",
    "      },\n",
    "      {\n",
    "        \"nome_campo\": \"CPF\",\n",
    "        \"id_tipo\": 1,\n",
    "        \"anulavel\": False\n",
    "      },\n",
    "      {\n",
    "        \"nome_campo\": \"Endereço\",\n",
    "        \"id_tipo\": 1,\n",
    "        \"anulavel\": False\n",
    "      },\n",
    "      {\n",
    "        \"nome_campo\": \"Telefone\",\n",
    "        \"id_tipo\": 1,\n",
    "        \"anulavel\": False\n",
    "      }\n",
    "]\n",
    "  \n",
    "\n",
    "for coluna in df.columns.values:\n",
    "    print(coluna)"
   ]
  },
  {
   "cell_type": "markdown",
   "metadata": {},
   "source": [
    "### Checar Arquivo Correto"
   ]
  },
  {
   "cell_type": "code",
   "execution_count": null,
   "metadata": {},
   "outputs": [],
   "source": [
    "filepath = 'src/'\n",
    "filename = 'csv_correto.csv'\n",
    "\n",
    "datatypes= {\n",
    "        'Nome': 'str',\n",
    "        'CPF': 'int64',\n",
    "        'Endereço': 'str',\n",
    "        'Telefone': 'str'\n",
    "    }\n",
    "\n",
    "df = converterParaDataFrame(filepath + filename)\n",
    "\n",
    "print(df.astype(datatypes).dtypes) # Verificando os tipos de dados\n",
    "\n",
    "# Iterando por cada linha e coluna\n",
    "for i in range(len(df)):\n",
    "    for j in range(len(df.columns)):\n",
    "        print(i, j)\n",
    "        print(df.iloc[i, j])\n",
    "    print()\n",
    "            \n",
    "for coluna in df.columns.values:\n",
    "    print(coluna)\n",
    "    "
   ]
  },
  {
   "cell_type": "markdown",
   "metadata": {},
   "source": [
    "### Checar Arquivo Incorreto"
   ]
  },
  {
   "cell_type": "code",
   "execution_count": null,
   "metadata": {},
   "outputs": [],
   "source": [
    "filepath = 'src/'\n",
    "filename = 'csv_incorreto.csv'\n",
    "\n",
    "datatypes= {\n",
    "        'Nome': 'str',\n",
    "        'CPF': 'int64',\n",
    "        'Endereço': 'str',\n",
    "        'Telefone': 'str'\n",
    "    }\n",
    "\n",
    "df = converterParaDataFrame(filepath + filename)\n",
    "\n",
    "df.astype(datatypes) # "
   ]
  },
  {
   "cell_type": "markdown",
   "metadata": {},
   "source": [
    "### Conexão com o Banco de dados"
   ]
  },
  {
   "cell_type": "code",
   "execution_count": null,
   "metadata": {},
   "outputs": [],
   "source": [
    "import json\n",
    "\n",
    "with open(\"../config.json\", \"r\") as config_file:\n",
    "    config = json.load(config_file)\n",
    "    \n",
    "print(config)"
   ]
  },
  {
   "cell_type": "code",
   "execution_count": null,
   "metadata": {},
   "outputs": [],
   "source": [
    "import psycopg2\n",
    "\n",
    "# Use the configuration to establish a database connection\n",
    "try:\n",
    "    connection = psycopg2.connect(\n",
    "        dbname=config[\"database\"],\n",
    "        user=config[\"user\"],\n",
    "        password=config[\"password\"],\n",
    "        host=config[\"host\"]\n",
    "    )\n",
    "\n",
    "    # Rest of your database code...\n",
    "except psycopg2.Error as error:\n",
    "    print(\"Error connecting to the database:\", error)"
   ]
  }
 ],
 "metadata": {
  "kernelspec": {
   "display_name": "Python 3",
   "language": "python",
   "name": "python3"
  },
  "language_info": {
   "codemirror_mode": {
    "name": "ipython",
    "version": 3
   },
   "file_extension": ".py",
   "mimetype": "text/x-python",
   "name": "python",
   "nbconvert_exporter": "python",
   "pygments_lexer": "ipython3",
   "version": "3.12.0"
  }
 },
 "nbformat": 4,
 "nbformat_minor": 2
}
